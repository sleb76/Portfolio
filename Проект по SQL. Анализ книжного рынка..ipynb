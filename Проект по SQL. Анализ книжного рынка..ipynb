{
 "cells": [
  {
   "cell_type": "markdown",
   "metadata": {},
   "source": [
    "# Проект по SQL. Анализ книжного рынка.\n",
    "\n",
    "В наши задачи входило провести анализ книжного рынка и найти ответы на несколько краеугольных вопросов, которые определят существование не только книжного рынка как такового, но и, без преувеличения, и всей письменной речи на тысячи лет вперед и на не меньшее число лет назад. \n",
    "\n",
    "Нам было предоставлено 5 таблиц внутри одной схемы: таблицы с перечнями книг, авторов, рейтингов, отзывов и издательств  и ER-диаграмма.\n",
    "\n",
    "Ход исследования:\n",
    "\n",
    "Настройка подключения к БД\n",
    "\n",
    "Вывод таблиц\n",
    "\n",
    "Создание запросов к таблицам\n",
    "\n",
    "Выводы\n"
   ]
  },
  {
   "cell_type": "markdown",
   "metadata": {},
   "source": [
    "## Настройка подключения к БД"
   ]
  },
  {
   "cell_type": "code",
   "execution_count": 1,
   "metadata": {},
   "outputs": [],
   "source": [
    "# импортируем библиотеки\n",
    "import pandas as pd\n",
    "from sqlalchemy import text, create_engine"
   ]
  },
  {
   "cell_type": "code",
   "execution_count": 3,
   "metadata": {},
   "outputs": [],
   "source": [
    "# сохраняем коннектор\n",
    "engine = create_engine(connection_string, connect_args={'sslmode':'require'})"
   ]
  },
  {
   "cell_type": "markdown",
   "metadata": {},
   "source": [
    "## Вывод таблиц"
   ]
  },
  {
   "cell_type": "markdown",
   "metadata": {},
   "source": [
    "Подготовим функцию:"
   ]
  },
  {
   "cell_type": "code",
   "execution_count": 4,
   "metadata": {},
   "outputs": [],
   "source": [
    "def execute_sql_query(query):\n",
    "    with engine.connect() as con:\n",
    "        result = pd.read_sql(query, con)\n",
    "    return result\n",
    "\n",
    "# Пример использования функции\n",
    "#query = '''SELECT * FROM books LIMIT 5'''\n",
    "#result_df = execute_sql_query(query)"
   ]
  },
  {
   "cell_type": "code",
   "execution_count": 5,
   "metadata": {},
   "outputs": [
    {
     "name": "stdout",
     "output_type": "stream",
     "text": [
      "Таблица: books\n"
     ]
    },
    {
     "data": {
      "text/html": [
       "<div>\n",
       "<style scoped>\n",
       "    .dataframe tbody tr th:only-of-type {\n",
       "        vertical-align: middle;\n",
       "    }\n",
       "\n",
       "    .dataframe tbody tr th {\n",
       "        vertical-align: top;\n",
       "    }\n",
       "\n",
       "    .dataframe thead th {\n",
       "        text-align: right;\n",
       "    }\n",
       "</style>\n",
       "<table border=\"1\" class=\"dataframe\">\n",
       "  <thead>\n",
       "    <tr style=\"text-align: right;\">\n",
       "      <th></th>\n",
       "      <th>book_id</th>\n",
       "      <th>author_id</th>\n",
       "      <th>title</th>\n",
       "      <th>num_pages</th>\n",
       "      <th>publication_date</th>\n",
       "      <th>publisher_id</th>\n",
       "    </tr>\n",
       "  </thead>\n",
       "  <tbody>\n",
       "    <tr>\n",
       "      <th>0</th>\n",
       "      <td>1</td>\n",
       "      <td>546</td>\n",
       "      <td>'Salem's Lot</td>\n",
       "      <td>594</td>\n",
       "      <td>2005-11-01</td>\n",
       "      <td>93</td>\n",
       "    </tr>\n",
       "    <tr>\n",
       "      <th>1</th>\n",
       "      <td>2</td>\n",
       "      <td>465</td>\n",
       "      <td>1 000 Places to See Before You Die</td>\n",
       "      <td>992</td>\n",
       "      <td>2003-05-22</td>\n",
       "      <td>336</td>\n",
       "    </tr>\n",
       "    <tr>\n",
       "      <th>2</th>\n",
       "      <td>3</td>\n",
       "      <td>407</td>\n",
       "      <td>13 Little Blue Envelopes (Little Blue Envelope...</td>\n",
       "      <td>322</td>\n",
       "      <td>2010-12-21</td>\n",
       "      <td>135</td>\n",
       "    </tr>\n",
       "    <tr>\n",
       "      <th>3</th>\n",
       "      <td>4</td>\n",
       "      <td>82</td>\n",
       "      <td>1491: New Revelations of the Americas Before C...</td>\n",
       "      <td>541</td>\n",
       "      <td>2006-10-10</td>\n",
       "      <td>309</td>\n",
       "    </tr>\n",
       "    <tr>\n",
       "      <th>4</th>\n",
       "      <td>5</td>\n",
       "      <td>125</td>\n",
       "      <td>1776</td>\n",
       "      <td>386</td>\n",
       "      <td>2006-07-04</td>\n",
       "      <td>268</td>\n",
       "    </tr>\n",
       "  </tbody>\n",
       "</table>\n",
       "</div>"
      ],
      "text/plain": [
       "   book_id  author_id                                              title  \\\n",
       "0        1        546                                       'Salem's Lot   \n",
       "1        2        465                 1 000 Places to See Before You Die   \n",
       "2        3        407  13 Little Blue Envelopes (Little Blue Envelope...   \n",
       "3        4         82  1491: New Revelations of the Americas Before C...   \n",
       "4        5        125                                               1776   \n",
       "\n",
       "   num_pages publication_date  publisher_id  \n",
       "0        594       2005-11-01            93  \n",
       "1        992       2003-05-22           336  \n",
       "2        322       2010-12-21           135  \n",
       "3        541       2006-10-10           309  \n",
       "4        386       2006-07-04           268  "
      ]
     },
     "metadata": {},
     "output_type": "display_data"
    },
    {
     "name": "stdout",
     "output_type": "stream",
     "text": [
      "----------------------------------------\n",
      "Таблица: authors\n"
     ]
    },
    {
     "data": {
      "text/html": [
       "<div>\n",
       "<style scoped>\n",
       "    .dataframe tbody tr th:only-of-type {\n",
       "        vertical-align: middle;\n",
       "    }\n",
       "\n",
       "    .dataframe tbody tr th {\n",
       "        vertical-align: top;\n",
       "    }\n",
       "\n",
       "    .dataframe thead th {\n",
       "        text-align: right;\n",
       "    }\n",
       "</style>\n",
       "<table border=\"1\" class=\"dataframe\">\n",
       "  <thead>\n",
       "    <tr style=\"text-align: right;\">\n",
       "      <th></th>\n",
       "      <th>author_id</th>\n",
       "      <th>author</th>\n",
       "    </tr>\n",
       "  </thead>\n",
       "  <tbody>\n",
       "    <tr>\n",
       "      <th>0</th>\n",
       "      <td>1</td>\n",
       "      <td>A.S. Byatt</td>\n",
       "    </tr>\n",
       "    <tr>\n",
       "      <th>1</th>\n",
       "      <td>2</td>\n",
       "      <td>Aesop/Laura Harris/Laura Gibbs</td>\n",
       "    </tr>\n",
       "    <tr>\n",
       "      <th>2</th>\n",
       "      <td>3</td>\n",
       "      <td>Agatha Christie</td>\n",
       "    </tr>\n",
       "    <tr>\n",
       "      <th>3</th>\n",
       "      <td>4</td>\n",
       "      <td>Alan Brennert</td>\n",
       "    </tr>\n",
       "    <tr>\n",
       "      <th>4</th>\n",
       "      <td>5</td>\n",
       "      <td>Alan Moore/David   Lloyd</td>\n",
       "    </tr>\n",
       "  </tbody>\n",
       "</table>\n",
       "</div>"
      ],
      "text/plain": [
       "   author_id                          author\n",
       "0          1                      A.S. Byatt\n",
       "1          2  Aesop/Laura Harris/Laura Gibbs\n",
       "2          3                 Agatha Christie\n",
       "3          4                   Alan Brennert\n",
       "4          5        Alan Moore/David   Lloyd"
      ]
     },
     "metadata": {},
     "output_type": "display_data"
    },
    {
     "name": "stdout",
     "output_type": "stream",
     "text": [
      "----------------------------------------\n",
      "Таблица: publishers\n"
     ]
    },
    {
     "data": {
      "text/html": [
       "<div>\n",
       "<style scoped>\n",
       "    .dataframe tbody tr th:only-of-type {\n",
       "        vertical-align: middle;\n",
       "    }\n",
       "\n",
       "    .dataframe tbody tr th {\n",
       "        vertical-align: top;\n",
       "    }\n",
       "\n",
       "    .dataframe thead th {\n",
       "        text-align: right;\n",
       "    }\n",
       "</style>\n",
       "<table border=\"1\" class=\"dataframe\">\n",
       "  <thead>\n",
       "    <tr style=\"text-align: right;\">\n",
       "      <th></th>\n",
       "      <th>publisher_id</th>\n",
       "      <th>publisher</th>\n",
       "    </tr>\n",
       "  </thead>\n",
       "  <tbody>\n",
       "    <tr>\n",
       "      <th>0</th>\n",
       "      <td>1</td>\n",
       "      <td>Ace</td>\n",
       "    </tr>\n",
       "    <tr>\n",
       "      <th>1</th>\n",
       "      <td>2</td>\n",
       "      <td>Ace Book</td>\n",
       "    </tr>\n",
       "    <tr>\n",
       "      <th>2</th>\n",
       "      <td>3</td>\n",
       "      <td>Ace Books</td>\n",
       "    </tr>\n",
       "    <tr>\n",
       "      <th>3</th>\n",
       "      <td>4</td>\n",
       "      <td>Ace Hardcover</td>\n",
       "    </tr>\n",
       "    <tr>\n",
       "      <th>4</th>\n",
       "      <td>5</td>\n",
       "      <td>Addison Wesley Publishing Company</td>\n",
       "    </tr>\n",
       "  </tbody>\n",
       "</table>\n",
       "</div>"
      ],
      "text/plain": [
       "   publisher_id                          publisher\n",
       "0             1                                Ace\n",
       "1             2                           Ace Book\n",
       "2             3                          Ace Books\n",
       "3             4                      Ace Hardcover\n",
       "4             5  Addison Wesley Publishing Company"
      ]
     },
     "metadata": {},
     "output_type": "display_data"
    },
    {
     "name": "stdout",
     "output_type": "stream",
     "text": [
      "----------------------------------------\n",
      "Таблица: ratings\n"
     ]
    },
    {
     "data": {
      "text/html": [
       "<div>\n",
       "<style scoped>\n",
       "    .dataframe tbody tr th:only-of-type {\n",
       "        vertical-align: middle;\n",
       "    }\n",
       "\n",
       "    .dataframe tbody tr th {\n",
       "        vertical-align: top;\n",
       "    }\n",
       "\n",
       "    .dataframe thead th {\n",
       "        text-align: right;\n",
       "    }\n",
       "</style>\n",
       "<table border=\"1\" class=\"dataframe\">\n",
       "  <thead>\n",
       "    <tr style=\"text-align: right;\">\n",
       "      <th></th>\n",
       "      <th>rating_id</th>\n",
       "      <th>book_id</th>\n",
       "      <th>username</th>\n",
       "      <th>rating</th>\n",
       "    </tr>\n",
       "  </thead>\n",
       "  <tbody>\n",
       "    <tr>\n",
       "      <th>0</th>\n",
       "      <td>1</td>\n",
       "      <td>1</td>\n",
       "      <td>ryanfranco</td>\n",
       "      <td>4</td>\n",
       "    </tr>\n",
       "    <tr>\n",
       "      <th>1</th>\n",
       "      <td>2</td>\n",
       "      <td>1</td>\n",
       "      <td>grantpatricia</td>\n",
       "      <td>2</td>\n",
       "    </tr>\n",
       "    <tr>\n",
       "      <th>2</th>\n",
       "      <td>3</td>\n",
       "      <td>1</td>\n",
       "      <td>brandtandrea</td>\n",
       "      <td>5</td>\n",
       "    </tr>\n",
       "    <tr>\n",
       "      <th>3</th>\n",
       "      <td>4</td>\n",
       "      <td>2</td>\n",
       "      <td>lorichen</td>\n",
       "      <td>3</td>\n",
       "    </tr>\n",
       "    <tr>\n",
       "      <th>4</th>\n",
       "      <td>5</td>\n",
       "      <td>2</td>\n",
       "      <td>mariokeller</td>\n",
       "      <td>2</td>\n",
       "    </tr>\n",
       "  </tbody>\n",
       "</table>\n",
       "</div>"
      ],
      "text/plain": [
       "   rating_id  book_id       username  rating\n",
       "0          1        1     ryanfranco       4\n",
       "1          2        1  grantpatricia       2\n",
       "2          3        1   brandtandrea       5\n",
       "3          4        2       lorichen       3\n",
       "4          5        2    mariokeller       2"
      ]
     },
     "metadata": {},
     "output_type": "display_data"
    },
    {
     "name": "stdout",
     "output_type": "stream",
     "text": [
      "----------------------------------------\n",
      "Таблица: reviews\n"
     ]
    },
    {
     "data": {
      "text/html": [
       "<div>\n",
       "<style scoped>\n",
       "    .dataframe tbody tr th:only-of-type {\n",
       "        vertical-align: middle;\n",
       "    }\n",
       "\n",
       "    .dataframe tbody tr th {\n",
       "        vertical-align: top;\n",
       "    }\n",
       "\n",
       "    .dataframe thead th {\n",
       "        text-align: right;\n",
       "    }\n",
       "</style>\n",
       "<table border=\"1\" class=\"dataframe\">\n",
       "  <thead>\n",
       "    <tr style=\"text-align: right;\">\n",
       "      <th></th>\n",
       "      <th>review_id</th>\n",
       "      <th>book_id</th>\n",
       "      <th>username</th>\n",
       "      <th>text</th>\n",
       "    </tr>\n",
       "  </thead>\n",
       "  <tbody>\n",
       "    <tr>\n",
       "      <th>0</th>\n",
       "      <td>1</td>\n",
       "      <td>1</td>\n",
       "      <td>brandtandrea</td>\n",
       "      <td>Mention society tell send professor analysis. ...</td>\n",
       "    </tr>\n",
       "    <tr>\n",
       "      <th>1</th>\n",
       "      <td>2</td>\n",
       "      <td>1</td>\n",
       "      <td>ryanfranco</td>\n",
       "      <td>Foot glass pretty audience hit themselves. Amo...</td>\n",
       "    </tr>\n",
       "    <tr>\n",
       "      <th>2</th>\n",
       "      <td>3</td>\n",
       "      <td>2</td>\n",
       "      <td>lorichen</td>\n",
       "      <td>Listen treat keep worry. Miss husband tax but ...</td>\n",
       "    </tr>\n",
       "    <tr>\n",
       "      <th>3</th>\n",
       "      <td>4</td>\n",
       "      <td>3</td>\n",
       "      <td>johnsonamanda</td>\n",
       "      <td>Finally month interesting blue could nature cu...</td>\n",
       "    </tr>\n",
       "    <tr>\n",
       "      <th>4</th>\n",
       "      <td>5</td>\n",
       "      <td>3</td>\n",
       "      <td>scotttamara</td>\n",
       "      <td>Nation purpose heavy give wait song will. List...</td>\n",
       "    </tr>\n",
       "  </tbody>\n",
       "</table>\n",
       "</div>"
      ],
      "text/plain": [
       "   review_id  book_id       username  \\\n",
       "0          1        1   brandtandrea   \n",
       "1          2        1     ryanfranco   \n",
       "2          3        2       lorichen   \n",
       "3          4        3  johnsonamanda   \n",
       "4          5        3    scotttamara   \n",
       "\n",
       "                                                text  \n",
       "0  Mention society tell send professor analysis. ...  \n",
       "1  Foot glass pretty audience hit themselves. Amo...  \n",
       "2  Listen treat keep worry. Miss husband tax but ...  \n",
       "3  Finally month interesting blue could nature cu...  \n",
       "4  Nation purpose heavy give wait song will. List...  "
      ]
     },
     "metadata": {},
     "output_type": "display_data"
    },
    {
     "name": "stdout",
     "output_type": "stream",
     "text": [
      "----------------------------------------\n"
     ]
    }
   ],
   "source": [
    "# Список таблиц, для которых нужно выполнить запрос\n",
    "table_names = ['books', 'authors', 'publishers', 'ratings', 'reviews']\n",
    "\n",
    "# Шаблон запроса \n",
    "query_template = '''SELECT * FROM {}'''\n",
    "\n",
    "# Создаем переменные с именами таблиц и сохраняем результаты запросов в них\n",
    "for table_name in table_names:\n",
    "    query = query_template.format(table_name)\n",
    "    globals()[table_name] = execute_sql_query(query)\n",
    "\n",
    "# Выводим первые 5 строк каждой таблицы на экран\n",
    "for table_name in table_names:\n",
    "    print(f\"Таблица: {table_name}\")\n",
    "    display(globals()[table_name].head())\n",
    "    print(\"-\" * 40)\n"
   ]
  },
  {
   "cell_type": "markdown",
   "metadata": {},
   "source": [
    "## Создание запросов к таблицам"
   ]
  },
  {
   "cell_type": "markdown",
   "metadata": {},
   "source": [
    "### Посчитайте, сколько книг вышло после 1 января 2000 года"
   ]
  },
  {
   "cell_type": "code",
   "execution_count": 6,
   "metadata": {},
   "outputs": [],
   "source": [
    "query = '''\n",
    "\n",
    "Select count(*)\n",
    "From books\n",
    "WHERE CAST(DATE_TRUNC('day', publication_date) AS date) > '2000-01-01';\n",
    "\n",
    "'''\n",
    "result1 = execute_sql_query(query)"
   ]
  },
  {
   "cell_type": "code",
   "execution_count": 7,
   "metadata": {
    "scrolled": false
   },
   "outputs": [
    {
     "data": {
      "text/html": [
       "<div>\n",
       "<style scoped>\n",
       "    .dataframe tbody tr th:only-of-type {\n",
       "        vertical-align: middle;\n",
       "    }\n",
       "\n",
       "    .dataframe tbody tr th {\n",
       "        vertical-align: top;\n",
       "    }\n",
       "\n",
       "    .dataframe thead th {\n",
       "        text-align: right;\n",
       "    }\n",
       "</style>\n",
       "<table border=\"1\" class=\"dataframe\">\n",
       "  <thead>\n",
       "    <tr style=\"text-align: right;\">\n",
       "      <th></th>\n",
       "      <th>count</th>\n",
       "    </tr>\n",
       "  </thead>\n",
       "  <tbody>\n",
       "    <tr>\n",
       "      <th>0</th>\n",
       "      <td>819</td>\n",
       "    </tr>\n",
       "  </tbody>\n",
       "</table>\n",
       "</div>"
      ],
      "text/plain": [
       "   count\n",
       "0    819"
      ]
     },
     "execution_count": 7,
     "metadata": {},
     "output_type": "execute_result"
    }
   ],
   "source": [
    "result1"
   ]
  },
  {
   "cell_type": "markdown",
   "metadata": {},
   "source": [
    "После 1 января 2000 года вышло 819 книг"
   ]
  },
  {
   "cell_type": "markdown",
   "metadata": {},
   "source": [
    "### Для каждой книги посчитайте количество обзоров и среднюю оценку"
   ]
  },
  {
   "cell_type": "code",
   "execution_count": 8,
   "metadata": {},
   "outputs": [],
   "source": [
    "query = '''\n",
    "\n",
    "SELECT\n",
    "    b.book_id,\n",
    "    b.title,\n",
    "    (\n",
    "        SELECT COUNT(*)\n",
    "        FROM reviews AS r\n",
    "        WHERE r.book_id = b.book_id\n",
    "    ) AS review_count,\n",
    "    (\n",
    "        SELECT AVG(rt.rating)\n",
    "        FROM ratings as rt\n",
    "        WHERE rt.book_id = b.book_id\n",
    "    ) AS average_rating\n",
    "FROM\n",
    "    books AS b\n",
    "\n",
    "\n",
    "'''\n",
    "result21 = execute_sql_query(query)"
   ]
  },
  {
   "cell_type": "code",
   "execution_count": 9,
   "metadata": {
    "scrolled": false
   },
   "outputs": [
    {
     "data": {
      "text/html": [
       "<div>\n",
       "<style scoped>\n",
       "    .dataframe tbody tr th:only-of-type {\n",
       "        vertical-align: middle;\n",
       "    }\n",
       "\n",
       "    .dataframe tbody tr th {\n",
       "        vertical-align: top;\n",
       "    }\n",
       "\n",
       "    .dataframe thead th {\n",
       "        text-align: right;\n",
       "    }\n",
       "</style>\n",
       "<table border=\"1\" class=\"dataframe\">\n",
       "  <thead>\n",
       "    <tr style=\"text-align: right;\">\n",
       "      <th></th>\n",
       "      <th>book_id</th>\n",
       "      <th>title</th>\n",
       "      <th>review_count</th>\n",
       "      <th>average_rating</th>\n",
       "    </tr>\n",
       "  </thead>\n",
       "  <tbody>\n",
       "    <tr>\n",
       "      <th>0</th>\n",
       "      <td>1</td>\n",
       "      <td>'Salem's Lot</td>\n",
       "      <td>2</td>\n",
       "      <td>3.666667</td>\n",
       "    </tr>\n",
       "    <tr>\n",
       "      <th>1</th>\n",
       "      <td>2</td>\n",
       "      <td>1 000 Places to See Before You Die</td>\n",
       "      <td>1</td>\n",
       "      <td>2.500000</td>\n",
       "    </tr>\n",
       "    <tr>\n",
       "      <th>2</th>\n",
       "      <td>3</td>\n",
       "      <td>13 Little Blue Envelopes (Little Blue Envelope...</td>\n",
       "      <td>3</td>\n",
       "      <td>4.666667</td>\n",
       "    </tr>\n",
       "    <tr>\n",
       "      <th>3</th>\n",
       "      <td>4</td>\n",
       "      <td>1491: New Revelations of the Americas Before C...</td>\n",
       "      <td>2</td>\n",
       "      <td>4.500000</td>\n",
       "    </tr>\n",
       "    <tr>\n",
       "      <th>4</th>\n",
       "      <td>5</td>\n",
       "      <td>1776</td>\n",
       "      <td>4</td>\n",
       "      <td>4.000000</td>\n",
       "    </tr>\n",
       "  </tbody>\n",
       "</table>\n",
       "</div>"
      ],
      "text/plain": [
       "   book_id                                              title  review_count  \\\n",
       "0        1                                       'Salem's Lot             2   \n",
       "1        2                 1 000 Places to See Before You Die             1   \n",
       "2        3  13 Little Blue Envelopes (Little Blue Envelope...             3   \n",
       "3        4  1491: New Revelations of the Americas Before C...             2   \n",
       "4        5                                               1776             4   \n",
       "\n",
       "   average_rating  \n",
       "0        3.666667  \n",
       "1        2.500000  \n",
       "2        4.666667  \n",
       "3        4.500000  \n",
       "4        4.000000  "
      ]
     },
     "execution_count": 9,
     "metadata": {},
     "output_type": "execute_result"
    }
   ],
   "source": [
    "result21.head()"
   ]
  },
  {
   "cell_type": "markdown",
   "metadata": {},
   "source": [
    "Для каждой книги были посчитаны число обзоров и средний рейтинг"
   ]
  },
  {
   "cell_type": "markdown",
   "metadata": {},
   "source": [
    "### Определите издательство, которое выпустило наибольшее число книг толще 50 страниц — так вы исключите из анализа брошюры;"
   ]
  },
  {
   "cell_type": "code",
   "execution_count": 10,
   "metadata": {},
   "outputs": [],
   "source": [
    "query = '''\n",
    "\n",
    "SELECT\n",
    "    p.publisher_id,\n",
    "    p.publisher,\n",
    "    COUNT(*) AS book_count\n",
    "FROM\n",
    "    books AS b\n",
    "INNER JOIN\n",
    "    publishers AS p\n",
    "ON\n",
    "    b.publisher_id = p.publisher_id\n",
    "WHERE\n",
    "    b.num_pages > 50\n",
    "GROUP BY\n",
    "    p.publisher_id, p.publisher\n",
    "ORDER BY\n",
    "    book_count DESC\n",
    "LIMIT 1;\n",
    "\n",
    "\n",
    "\n",
    "\n",
    "'''\n",
    "result3 = execute_sql_query(query)"
   ]
  },
  {
   "cell_type": "code",
   "execution_count": 11,
   "metadata": {
    "scrolled": false
   },
   "outputs": [
    {
     "data": {
      "text/html": [
       "<div>\n",
       "<style scoped>\n",
       "    .dataframe tbody tr th:only-of-type {\n",
       "        vertical-align: middle;\n",
       "    }\n",
       "\n",
       "    .dataframe tbody tr th {\n",
       "        vertical-align: top;\n",
       "    }\n",
       "\n",
       "    .dataframe thead th {\n",
       "        text-align: right;\n",
       "    }\n",
       "</style>\n",
       "<table border=\"1\" class=\"dataframe\">\n",
       "  <thead>\n",
       "    <tr style=\"text-align: right;\">\n",
       "      <th></th>\n",
       "      <th>publisher_id</th>\n",
       "      <th>publisher</th>\n",
       "      <th>book_count</th>\n",
       "    </tr>\n",
       "  </thead>\n",
       "  <tbody>\n",
       "    <tr>\n",
       "      <th>0</th>\n",
       "      <td>212</td>\n",
       "      <td>Penguin Books</td>\n",
       "      <td>42</td>\n",
       "    </tr>\n",
       "  </tbody>\n",
       "</table>\n",
       "</div>"
      ],
      "text/plain": [
       "   publisher_id      publisher  book_count\n",
       "0           212  Penguin Books          42"
      ]
     },
     "execution_count": 11,
     "metadata": {},
     "output_type": "execute_result"
    }
   ],
   "source": [
    "result3"
   ]
  },
  {
   "cell_type": "markdown",
   "metadata": {},
   "source": [
    "Было определено издательство, издавшее наибольшее число книг толще 50 страниц, это Penguin Books\t"
   ]
  },
  {
   "cell_type": "markdown",
   "metadata": {},
   "source": [
    "### Определите автора с самой высокой средней оценкой книг — учитывайте только книги с 50 и более оценками;"
   ]
  },
  {
   "cell_type": "code",
   "execution_count": 14,
   "metadata": {},
   "outputs": [],
   "source": [
    "query = '''\n",
    "\n",
    "SELECT authors.author_id, authors.author, AVG(avg_rating) AS avg_author_rating\n",
    "FROM authors\n",
    "JOIN books ON authors.author_id = books.author_id\n",
    "JOIN (\n",
    "    SELECT book_id, AVG(rating) AS avg_rating\n",
    "    FROM ratings\n",
    "    WHERE book_id IN (\n",
    "        SELECT book_id\n",
    "        FROM ratings\n",
    "        GROUP BY book_id\n",
    "        HAVING COUNT(rating_id) >= 50\n",
    "    )\n",
    "    GROUP BY book_id\n",
    ") AS book_avg_ratings ON books.book_id = book_avg_ratings.book_id\n",
    "GROUP BY authors.author_id\n",
    "ORDER BY avg_author_rating DESC\n",
    "LIMIT 1;\n",
    "\n",
    "\n",
    "\n",
    "\n",
    "\n",
    "'''\n",
    "result43 = execute_sql_query(query)"
   ]
  },
  {
   "cell_type": "code",
   "execution_count": 15,
   "metadata": {
    "scrolled": false
   },
   "outputs": [
    {
     "data": {
      "text/html": [
       "<div>\n",
       "<style scoped>\n",
       "    .dataframe tbody tr th:only-of-type {\n",
       "        vertical-align: middle;\n",
       "    }\n",
       "\n",
       "    .dataframe tbody tr th {\n",
       "        vertical-align: top;\n",
       "    }\n",
       "\n",
       "    .dataframe thead th {\n",
       "        text-align: right;\n",
       "    }\n",
       "</style>\n",
       "<table border=\"1\" class=\"dataframe\">\n",
       "  <thead>\n",
       "    <tr style=\"text-align: right;\">\n",
       "      <th></th>\n",
       "      <th>author_id</th>\n",
       "      <th>author</th>\n",
       "      <th>avg_author_rating</th>\n",
       "    </tr>\n",
       "  </thead>\n",
       "  <tbody>\n",
       "    <tr>\n",
       "      <th>0</th>\n",
       "      <td>236</td>\n",
       "      <td>J.K. Rowling/Mary GrandPré</td>\n",
       "      <td>4.283844</td>\n",
       "    </tr>\n",
       "  </tbody>\n",
       "</table>\n",
       "</div>"
      ],
      "text/plain": [
       "   author_id                      author  avg_author_rating\n",
       "0        236  J.K. Rowling/Mary GrandPré           4.283844"
      ]
     },
     "execution_count": 15,
     "metadata": {},
     "output_type": "execute_result"
    }
   ],
   "source": [
    "result43"
   ]
  },
  {
   "cell_type": "markdown",
   "metadata": {},
   "source": [
    "По выборке наиболее оцениваемых книг (с 50 и более рейтингами) был отобран автор книг с самым высоким средним рейтингом, это J.K. Rowling в сотрудничестве с иллюстратором Mary GrandPré со средним рейтингом книг 4.28"
   ]
  },
  {
   "cell_type": "markdown",
   "metadata": {},
   "source": [
    "### Посчитайте среднее количество обзоров от пользователей, которые поставили больше 48 оценок."
   ]
  },
  {
   "cell_type": "code",
   "execution_count": 17,
   "metadata": {},
   "outputs": [],
   "source": [
    "query = '''\n",
    "\n",
    "\n",
    "WITH UsersRatings AS (\n",
    "    SELECT\n",
    "        r.username,\n",
    "        COUNT(r.rating_id) AS rating_count\n",
    "    FROM\n",
    "        ratings AS r\n",
    "    GROUP BY\n",
    "        r.username\n",
    "    HAVING\n",
    "        COUNT(r.rating_id) > 48\n",
    ")\n",
    "SELECT\n",
    "    AVG(COALESCE(rc.review_count, 0)) AS average_review_count\n",
    "FROM\n",
    "    UsersRatings AS ur\n",
    "LEFT JOIN (\n",
    "    SELECT\n",
    "        username,\n",
    "        COUNT(review_id) AS review_count\n",
    "    FROM\n",
    "        reviews\n",
    "    GROUP BY\n",
    "        username\n",
    ") AS rc\n",
    "ON\n",
    "    ur.username = rc.username;\n",
    "\n",
    "\n",
    "\n",
    "'''\n",
    "result5 = execute_sql_query(query)"
   ]
  },
  {
   "cell_type": "code",
   "execution_count": 18,
   "metadata": {},
   "outputs": [
    {
     "data": {
      "text/html": [
       "<div>\n",
       "<style scoped>\n",
       "    .dataframe tbody tr th:only-of-type {\n",
       "        vertical-align: middle;\n",
       "    }\n",
       "\n",
       "    .dataframe tbody tr th {\n",
       "        vertical-align: top;\n",
       "    }\n",
       "\n",
       "    .dataframe thead th {\n",
       "        text-align: right;\n",
       "    }\n",
       "</style>\n",
       "<table border=\"1\" class=\"dataframe\">\n",
       "  <thead>\n",
       "    <tr style=\"text-align: right;\">\n",
       "      <th></th>\n",
       "      <th>average_review_count</th>\n",
       "    </tr>\n",
       "  </thead>\n",
       "  <tbody>\n",
       "    <tr>\n",
       "      <th>0</th>\n",
       "      <td>24.0</td>\n",
       "    </tr>\n",
       "  </tbody>\n",
       "</table>\n",
       "</div>"
      ],
      "text/plain": [
       "   average_review_count\n",
       "0                  24.0"
      ]
     },
     "execution_count": 18,
     "metadata": {},
     "output_type": "execute_result"
    }
   ],
   "source": [
    "result5"
   ]
  },
  {
   "cell_type": "markdown",
   "metadata": {},
   "source": [
    "Было определено среднее число обзоров от пользователей, поставивших не менее 48 оценок, это 24 обзора"
   ]
  },
  {
   "cell_type": "markdown",
   "metadata": {},
   "source": [
    "## Выводы\n",
    "\n",
    "\n",
    "Перед нами была поставлена задача провести анализ книжного рынка и найти ответы на несколько краеугольных вопросов, которые определят существование не только книжного рынка как такового, но и, без преувеличения, и всей письменной речи на тысячи лет вперед и на не меньшее число лет назад.\n",
    "\n",
    "Нам было предоставлено 5 таблиц внутри одной схемы: таблицы с перечнями книг, авторов, рейтингов, отзывов и издательств и ER-диаграмма.\n",
    "\n",
    "Таблицы были выведены и визуально проинспектированы.\n",
    "\n",
    "В результате сформулированных запросов нами была получена следующая бесценная информация:\n",
    "\n",
    "1. После 1 января 2000 года вышло 819 книг\n",
    "\n",
    "2. Издательством, издавшим наибольшее число книг толще 50 страниц, является Penguin Books,\t42 изданные книги, не считая брошюр!\n",
    "\n",
    "3. По выборке наиболее оцениваемых книг (с 50 и более рейтингами) был отобран автор книг с самым высоким средним рейтингом, это J.K. Rowling в сотрудничестве с иллюстратором Mary GrandPré со средним рейтингом книг 4.28\n",
    "\n",
    "4. Было определено среднее число обзоров от пользователей, поставивших не менее 48 оценок, это 24 обзора\n",
    "\n",
    "\n",
    "\n",
    "\n",
    "\n",
    "\n",
    "\n",
    "\n"
   ]
  }
 ],
 "metadata": {
  "ExecuteTimeLog": [
   {
    "duration": 437,
    "start_time": "2023-10-13T23:08:57.403Z"
   },
   {
    "duration": 3,
    "start_time": "2023-10-13T23:09:10.977Z"
   },
   {
    "duration": 9964,
    "start_time": "2023-10-13T23:09:23.353Z"
   },
   {
    "duration": 240,
    "start_time": "2023-10-13T23:14:08.386Z"
   },
   {
    "duration": 153,
    "start_time": "2023-10-13T23:15:20.230Z"
   },
   {
    "duration": 48,
    "start_time": "2023-10-13T23:15:52.302Z"
   },
   {
    "duration": 7,
    "start_time": "2023-10-13T23:16:16.988Z"
   },
   {
    "duration": 49,
    "start_time": "2023-10-13T23:19:07.450Z"
   },
   {
    "duration": 49,
    "start_time": "2023-10-13T23:19:51.831Z"
   },
   {
    "duration": 48,
    "start_time": "2023-10-13T23:20:39.144Z"
   },
   {
    "duration": 49,
    "start_time": "2023-10-13T23:21:35.523Z"
   },
   {
    "duration": 49,
    "start_time": "2023-10-13T23:22:10.699Z"
   },
   {
    "duration": 49,
    "start_time": "2023-10-13T23:22:51.656Z"
   },
   {
    "duration": 9,
    "start_time": "2023-10-13T23:23:05.979Z"
   },
   {
    "duration": 7,
    "start_time": "2023-10-13T23:23:18.008Z"
   },
   {
    "duration": 5,
    "start_time": "2023-10-13T23:23:27.863Z"
   },
   {
    "duration": 7,
    "start_time": "2023-10-13T23:23:40.255Z"
   },
   {
    "duration": 6,
    "start_time": "2023-10-13T23:23:50.639Z"
   },
   {
    "duration": 104,
    "start_time": "2023-10-13T23:37:05.661Z"
   },
   {
    "duration": 49,
    "start_time": "2023-10-13T23:39:07.005Z"
   },
   {
    "duration": 6,
    "start_time": "2023-10-13T23:39:31.134Z"
   },
   {
    "duration": 48,
    "start_time": "2023-10-13T23:41:18.100Z"
   },
   {
    "duration": 5,
    "start_time": "2023-10-13T23:41:20.141Z"
   },
   {
    "duration": 49,
    "start_time": "2023-10-13T23:45:34.220Z"
   },
   {
    "duration": 5,
    "start_time": "2023-10-13T23:45:35.961Z"
   },
   {
    "duration": 59,
    "start_time": "2023-10-13T23:45:54.732Z"
   },
   {
    "duration": 48,
    "start_time": "2023-10-13T23:46:02.131Z"
   },
   {
    "duration": 5,
    "start_time": "2023-10-13T23:46:03.870Z"
   },
   {
    "duration": 85,
    "start_time": "2023-10-13T23:47:12.390Z"
   },
   {
    "duration": 8,
    "start_time": "2023-10-13T23:48:32.774Z"
   },
   {
    "duration": 631,
    "start_time": "2023-10-13T23:54:59.407Z"
   },
   {
    "duration": 7,
    "start_time": "2023-10-13T23:55:10.281Z"
   },
   {
    "duration": 632,
    "start_time": "2023-10-13T23:58:11.007Z"
   },
   {
    "duration": 9,
    "start_time": "2023-10-13T23:58:12.447Z"
   },
   {
    "duration": 49,
    "start_time": "2023-10-14T00:00:48.620Z"
   },
   {
    "duration": 48,
    "start_time": "2023-10-14T00:00:55.745Z"
   },
   {
    "duration": 6,
    "start_time": "2023-10-14T00:01:10.212Z"
   },
   {
    "duration": 52,
    "start_time": "2023-10-14T00:12:48.697Z"
   },
   {
    "duration": 5,
    "start_time": "2023-10-14T00:14:44.533Z"
   },
   {
    "duration": 51,
    "start_time": "2023-10-14T00:17:39.176Z"
   },
   {
    "duration": 5,
    "start_time": "2023-10-14T00:17:54.364Z"
   },
   {
    "duration": 494,
    "start_time": "2023-10-14T09:47:06.443Z"
   },
   {
    "duration": 3,
    "start_time": "2023-10-14T09:47:06.938Z"
   },
   {
    "duration": 9688,
    "start_time": "2023-10-14T09:47:06.943Z"
   },
   {
    "duration": 252,
    "start_time": "2023-10-14T09:47:16.632Z"
   },
   {
    "duration": 3,
    "start_time": "2023-10-14T09:47:16.886Z"
   },
   {
    "duration": 131,
    "start_time": "2023-10-14T09:47:16.890Z"
   },
   {
    "duration": 49,
    "start_time": "2023-10-14T09:47:17.022Z"
   },
   {
    "duration": 50,
    "start_time": "2023-10-14T09:47:17.072Z"
   },
   {
    "duration": 50,
    "start_time": "2023-10-14T09:47:17.123Z"
   },
   {
    "duration": 49,
    "start_time": "2023-10-14T09:47:17.176Z"
   },
   {
    "duration": 7,
    "start_time": "2023-10-14T09:47:17.226Z"
   },
   {
    "duration": 9,
    "start_time": "2023-10-14T09:47:17.234Z"
   },
   {
    "duration": 7,
    "start_time": "2023-10-14T09:47:17.244Z"
   },
   {
    "duration": 13,
    "start_time": "2023-10-14T09:47:17.253Z"
   },
   {
    "duration": 6,
    "start_time": "2023-10-14T09:47:17.267Z"
   },
   {
    "duration": 121,
    "start_time": "2023-10-14T09:47:17.274Z"
   },
   {
    "duration": 0,
    "start_time": "2023-10-14T09:47:17.396Z"
   },
   {
    "duration": 0,
    "start_time": "2023-10-14T09:47:17.397Z"
   },
   {
    "duration": 0,
    "start_time": "2023-10-14T09:47:17.398Z"
   },
   {
    "duration": 0,
    "start_time": "2023-10-14T09:47:17.399Z"
   },
   {
    "duration": 0,
    "start_time": "2023-10-14T09:47:17.399Z"
   },
   {
    "duration": 0,
    "start_time": "2023-10-14T09:47:17.400Z"
   },
   {
    "duration": 0,
    "start_time": "2023-10-14T09:47:17.401Z"
   },
   {
    "duration": 0,
    "start_time": "2023-10-14T09:47:17.402Z"
   },
   {
    "duration": 0,
    "start_time": "2023-10-14T09:47:17.403Z"
   },
   {
    "duration": 0,
    "start_time": "2023-10-14T09:47:17.404Z"
   },
   {
    "duration": 0,
    "start_time": "2023-10-14T09:47:17.405Z"
   },
   {
    "duration": 0,
    "start_time": "2023-10-14T09:47:17.405Z"
   },
   {
    "duration": 474,
    "start_time": "2023-10-14T09:47:38.510Z"
   },
   {
    "duration": 3,
    "start_time": "2023-10-14T09:47:38.985Z"
   },
   {
    "duration": 8889,
    "start_time": "2023-10-14T09:47:38.989Z"
   },
   {
    "duration": 243,
    "start_time": "2023-10-14T09:47:47.881Z"
   },
   {
    "duration": 4,
    "start_time": "2023-10-14T09:47:48.125Z"
   },
   {
    "duration": 126,
    "start_time": "2023-10-14T09:47:48.130Z"
   },
   {
    "duration": 49,
    "start_time": "2023-10-14T09:47:48.257Z"
   },
   {
    "duration": 49,
    "start_time": "2023-10-14T09:47:48.308Z"
   },
   {
    "duration": 48,
    "start_time": "2023-10-14T09:47:48.358Z"
   },
   {
    "duration": 47,
    "start_time": "2023-10-14T09:47:48.408Z"
   },
   {
    "duration": 8,
    "start_time": "2023-10-14T09:47:48.456Z"
   },
   {
    "duration": 20,
    "start_time": "2023-10-14T09:47:48.465Z"
   },
   {
    "duration": 8,
    "start_time": "2023-10-14T09:47:48.487Z"
   },
   {
    "duration": 7,
    "start_time": "2023-10-14T09:47:48.496Z"
   },
   {
    "duration": 7,
    "start_time": "2023-10-14T09:47:48.505Z"
   },
   {
    "duration": 58,
    "start_time": "2023-10-14T09:47:48.513Z"
   },
   {
    "duration": 5,
    "start_time": "2023-10-14T09:47:48.572Z"
   },
   {
    "duration": 83,
    "start_time": "2023-10-14T09:47:48.579Z"
   },
   {
    "duration": 7,
    "start_time": "2023-10-14T09:47:48.664Z"
   },
   {
    "duration": 648,
    "start_time": "2023-10-14T09:47:48.673Z"
   },
   {
    "duration": 7,
    "start_time": "2023-10-14T09:47:49.322Z"
   },
   {
    "duration": 61,
    "start_time": "2023-10-14T09:47:49.330Z"
   },
   {
    "duration": 6,
    "start_time": "2023-10-14T09:47:49.392Z"
   },
   {
    "duration": 54,
    "start_time": "2023-10-14T09:47:49.399Z"
   },
   {
    "duration": 6,
    "start_time": "2023-10-14T09:47:49.454Z"
   },
   {
    "duration": 52,
    "start_time": "2023-10-14T09:47:49.461Z"
   },
   {
    "duration": 5,
    "start_time": "2023-10-14T09:47:49.515Z"
   },
   {
    "duration": 79,
    "start_time": "2023-10-14T09:50:27.999Z"
   },
   {
    "duration": 6,
    "start_time": "2023-10-14T09:50:34.996Z"
   },
   {
    "duration": 63,
    "start_time": "2023-10-14T10:00:42.093Z"
   },
   {
    "duration": 7,
    "start_time": "2023-10-14T10:00:43.565Z"
   },
   {
    "duration": 51,
    "start_time": "2023-10-14T10:04:16.027Z"
   },
   {
    "duration": 438,
    "start_time": "2023-10-14T10:32:57.089Z"
   },
   {
    "duration": 3,
    "start_time": "2023-10-14T10:32:57.529Z"
   },
   {
    "duration": 10733,
    "start_time": "2023-10-14T10:32:57.541Z"
   },
   {
    "duration": 2,
    "start_time": "2023-10-14T10:33:08.276Z"
   },
   {
    "duration": 237,
    "start_time": "2023-10-14T10:33:08.280Z"
   },
   {
    "duration": 50,
    "start_time": "2023-10-14T10:33:08.519Z"
   },
   {
    "duration": 50,
    "start_time": "2023-10-14T10:33:08.571Z"
   },
   {
    "duration": 51,
    "start_time": "2023-10-14T10:33:08.622Z"
   },
   {
    "duration": 52,
    "start_time": "2023-10-14T10:33:08.674Z"
   },
   {
    "duration": 23,
    "start_time": "2023-10-14T10:33:08.729Z"
   },
   {
    "duration": 8,
    "start_time": "2023-10-14T10:33:08.753Z"
   },
   {
    "duration": 9,
    "start_time": "2023-10-14T10:33:08.762Z"
   },
   {
    "duration": 8,
    "start_time": "2023-10-14T10:33:08.772Z"
   },
   {
    "duration": 6,
    "start_time": "2023-10-14T10:33:08.781Z"
   },
   {
    "duration": 51,
    "start_time": "2023-10-14T10:33:08.788Z"
   },
   {
    "duration": 8,
    "start_time": "2023-10-14T10:33:08.844Z"
   },
   {
    "duration": 658,
    "start_time": "2023-10-14T10:33:08.854Z"
   },
   {
    "duration": 7,
    "start_time": "2023-10-14T10:33:09.513Z"
   },
   {
    "duration": 52,
    "start_time": "2023-10-14T10:33:09.522Z"
   },
   {
    "duration": 6,
    "start_time": "2023-10-14T10:33:09.575Z"
   },
   {
    "duration": 71,
    "start_time": "2023-10-14T10:33:09.582Z"
   },
   {
    "duration": 8,
    "start_time": "2023-10-14T10:33:09.655Z"
   },
   {
    "duration": 60,
    "start_time": "2023-10-14T10:33:09.664Z"
   },
   {
    "duration": 6,
    "start_time": "2023-10-14T10:33:09.726Z"
   },
   {
    "duration": 51,
    "start_time": "2023-10-14T10:44:41.499Z"
   },
   {
    "duration": 483,
    "start_time": "2023-10-14T10:51:58.132Z"
   },
   {
    "duration": 2,
    "start_time": "2023-10-14T10:51:58.617Z"
   },
   {
    "duration": 11278,
    "start_time": "2023-10-14T10:51:58.620Z"
   },
   {
    "duration": 3,
    "start_time": "2023-10-14T10:52:09.900Z"
   },
   {
    "duration": 253,
    "start_time": "2023-10-14T10:52:09.904Z"
   },
   {
    "duration": 48,
    "start_time": "2023-10-14T10:52:10.159Z"
   },
   {
    "duration": 49,
    "start_time": "2023-10-14T10:52:10.209Z"
   },
   {
    "duration": 50,
    "start_time": "2023-10-14T10:52:10.259Z"
   },
   {
    "duration": 50,
    "start_time": "2023-10-14T10:52:10.310Z"
   },
   {
    "duration": 13,
    "start_time": "2023-10-14T10:52:10.363Z"
   },
   {
    "duration": 18,
    "start_time": "2023-10-14T10:52:10.377Z"
   },
   {
    "duration": 17,
    "start_time": "2023-10-14T10:52:10.397Z"
   },
   {
    "duration": 7,
    "start_time": "2023-10-14T10:52:10.415Z"
   },
   {
    "duration": 14,
    "start_time": "2023-10-14T10:52:10.424Z"
   },
   {
    "duration": 69,
    "start_time": "2023-10-14T10:52:10.439Z"
   },
   {
    "duration": 5,
    "start_time": "2023-10-14T10:52:10.510Z"
   },
   {
    "duration": 749,
    "start_time": "2023-10-14T10:52:10.516Z"
   },
   {
    "duration": 7,
    "start_time": "2023-10-14T10:52:11.266Z"
   },
   {
    "duration": 52,
    "start_time": "2023-10-14T10:52:11.275Z"
   },
   {
    "duration": 5,
    "start_time": "2023-10-14T10:52:11.329Z"
   },
   {
    "duration": 54,
    "start_time": "2023-10-14T10:52:11.335Z"
   },
   {
    "duration": 6,
    "start_time": "2023-10-14T10:52:11.391Z"
   },
   {
    "duration": 55,
    "start_time": "2023-10-14T10:52:11.398Z"
   },
   {
    "duration": 5,
    "start_time": "2023-10-14T10:52:11.455Z"
   },
   {
    "duration": 422,
    "start_time": "2023-10-14T11:11:19.369Z"
   },
   {
    "duration": 87,
    "start_time": "2023-10-14T11:14:11.450Z"
   },
   {
    "duration": 91,
    "start_time": "2023-10-14T12:10:57.508Z"
   },
   {
    "duration": 454,
    "start_time": "2023-10-14T12:14:42.681Z"
   },
   {
    "duration": 5,
    "start_time": "2023-10-14T12:14:43.136Z"
   },
   {
    "duration": 11672,
    "start_time": "2023-10-14T12:14:43.143Z"
   },
   {
    "duration": 2,
    "start_time": "2023-10-14T12:14:54.817Z"
   },
   {
    "duration": 229,
    "start_time": "2023-10-14T12:14:54.821Z"
   },
   {
    "duration": 46,
    "start_time": "2023-10-14T12:14:55.052Z"
   },
   {
    "duration": 46,
    "start_time": "2023-10-14T12:14:55.099Z"
   },
   {
    "duration": 48,
    "start_time": "2023-10-14T12:14:55.147Z"
   },
   {
    "duration": 48,
    "start_time": "2023-10-14T12:14:55.196Z"
   },
   {
    "duration": 15,
    "start_time": "2023-10-14T12:14:55.246Z"
   },
   {
    "duration": 6,
    "start_time": "2023-10-14T12:14:55.262Z"
   },
   {
    "duration": 6,
    "start_time": "2023-10-14T12:14:55.269Z"
   },
   {
    "duration": 7,
    "start_time": "2023-10-14T12:14:55.277Z"
   },
   {
    "duration": 13,
    "start_time": "2023-10-14T12:14:55.285Z"
   },
   {
    "duration": 48,
    "start_time": "2023-10-14T12:14:55.299Z"
   },
   {
    "duration": 5,
    "start_time": "2023-10-14T12:14:55.348Z"
   },
   {
    "duration": 658,
    "start_time": "2023-10-14T12:14:55.354Z"
   },
   {
    "duration": 7,
    "start_time": "2023-10-14T12:14:56.013Z"
   },
   {
    "duration": 49,
    "start_time": "2023-10-14T12:14:56.021Z"
   },
   {
    "duration": 6,
    "start_time": "2023-10-14T12:14:56.071Z"
   },
   {
    "duration": 50,
    "start_time": "2023-10-14T12:14:56.079Z"
   },
   {
    "duration": 6,
    "start_time": "2023-10-14T12:14:56.131Z"
   },
   {
    "duration": 51,
    "start_time": "2023-10-14T12:14:56.139Z"
   },
   {
    "duration": 6,
    "start_time": "2023-10-14T12:14:56.191Z"
   },
   {
    "duration": 445,
    "start_time": "2023-10-14T12:26:00.604Z"
   },
   {
    "duration": 3,
    "start_time": "2023-10-14T12:26:01.051Z"
   },
   {
    "duration": 10361,
    "start_time": "2023-10-14T12:26:01.056Z"
   },
   {
    "duration": 3,
    "start_time": "2023-10-14T12:26:11.418Z"
   },
   {
    "duration": 261,
    "start_time": "2023-10-14T12:26:11.422Z"
   },
   {
    "duration": 48,
    "start_time": "2023-10-14T12:26:11.684Z"
   },
   {
    "duration": 50,
    "start_time": "2023-10-14T12:26:11.733Z"
   },
   {
    "duration": 47,
    "start_time": "2023-10-14T12:26:11.785Z"
   },
   {
    "duration": 50,
    "start_time": "2023-10-14T12:26:11.833Z"
   },
   {
    "duration": 12,
    "start_time": "2023-10-14T12:26:11.886Z"
   },
   {
    "duration": 5,
    "start_time": "2023-10-14T12:26:11.899Z"
   },
   {
    "duration": 12,
    "start_time": "2023-10-14T12:26:11.905Z"
   },
   {
    "duration": 10,
    "start_time": "2023-10-14T12:26:11.918Z"
   },
   {
    "duration": 8,
    "start_time": "2023-10-14T12:26:11.929Z"
   },
   {
    "duration": 50,
    "start_time": "2023-10-14T12:26:11.938Z"
   },
   {
    "duration": 5,
    "start_time": "2023-10-14T12:26:11.990Z"
   },
   {
    "duration": 662,
    "start_time": "2023-10-14T12:26:11.997Z"
   },
   {
    "duration": 8,
    "start_time": "2023-10-14T12:26:12.661Z"
   },
   {
    "duration": 50,
    "start_time": "2023-10-14T12:26:12.671Z"
   },
   {
    "duration": 7,
    "start_time": "2023-10-14T12:26:12.722Z"
   },
   {
    "duration": 52,
    "start_time": "2023-10-14T12:26:12.731Z"
   },
   {
    "duration": 7,
    "start_time": "2023-10-14T12:26:12.784Z"
   },
   {
    "duration": 55,
    "start_time": "2023-10-14T12:26:12.792Z"
   },
   {
    "duration": 6,
    "start_time": "2023-10-14T12:26:12.848Z"
   },
   {
    "duration": 47,
    "start_time": "2023-10-15T10:23:45.474Z"
   },
   {
    "duration": 488,
    "start_time": "2023-10-15T10:23:53.690Z"
   },
   {
    "duration": 4,
    "start_time": "2023-10-15T10:23:54.180Z"
   },
   {
    "duration": 13673,
    "start_time": "2023-10-15T10:23:54.186Z"
   },
   {
    "duration": 3,
    "start_time": "2023-10-15T10:24:07.861Z"
   },
   {
    "duration": 227,
    "start_time": "2023-10-15T10:24:07.865Z"
   },
   {
    "duration": 46,
    "start_time": "2023-10-15T10:24:08.094Z"
   },
   {
    "duration": 47,
    "start_time": "2023-10-15T10:24:08.142Z"
   },
   {
    "duration": 47,
    "start_time": "2023-10-15T10:24:08.191Z"
   },
   {
    "duration": 47,
    "start_time": "2023-10-15T10:24:08.240Z"
   },
   {
    "duration": 15,
    "start_time": "2023-10-15T10:24:08.290Z"
   },
   {
    "duration": 20,
    "start_time": "2023-10-15T10:24:08.306Z"
   },
   {
    "duration": 9,
    "start_time": "2023-10-15T10:24:08.328Z"
   },
   {
    "duration": 15,
    "start_time": "2023-10-15T10:24:08.339Z"
   },
   {
    "duration": 7,
    "start_time": "2023-10-15T10:24:08.356Z"
   },
   {
    "duration": 55,
    "start_time": "2023-10-15T10:24:08.365Z"
   },
   {
    "duration": 5,
    "start_time": "2023-10-15T10:24:08.422Z"
   },
   {
    "duration": 659,
    "start_time": "2023-10-15T10:24:08.429Z"
   },
   {
    "duration": 8,
    "start_time": "2023-10-15T10:24:09.090Z"
   },
   {
    "duration": 59,
    "start_time": "2023-10-15T10:24:09.100Z"
   },
   {
    "duration": 7,
    "start_time": "2023-10-15T10:24:09.161Z"
   },
   {
    "duration": 67,
    "start_time": "2023-10-15T10:24:09.169Z"
   },
   {
    "duration": 6,
    "start_time": "2023-10-15T10:24:09.238Z"
   },
   {
    "duration": 60,
    "start_time": "2023-10-15T10:24:09.246Z"
   },
   {
    "duration": 50,
    "start_time": "2023-10-15T10:24:09.308Z"
   },
   {
    "duration": 6,
    "start_time": "2023-10-15T10:24:09.360Z"
   },
   {
    "duration": 75,
    "start_time": "2023-10-15T10:24:29.351Z"
   },
   {
    "duration": 51,
    "start_time": "2023-10-15T10:24:38.782Z"
   },
   {
    "duration": 8,
    "start_time": "2023-10-15T10:24:41.164Z"
   },
   {
    "duration": 52,
    "start_time": "2023-10-15T10:26:03.486Z"
   },
   {
    "duration": 7,
    "start_time": "2023-10-15T10:26:06.685Z"
   },
   {
    "duration": 52,
    "start_time": "2023-10-15T10:27:20.756Z"
   },
   {
    "duration": 6,
    "start_time": "2023-10-15T10:27:23.454Z"
   },
   {
    "duration": 54,
    "start_time": "2023-10-15T10:28:11.536Z"
   },
   {
    "duration": 7,
    "start_time": "2023-10-15T10:28:14.305Z"
   },
   {
    "duration": 53,
    "start_time": "2023-10-15T10:30:50.414Z"
   },
   {
    "duration": 7,
    "start_time": "2023-10-15T10:30:51.686Z"
   },
   {
    "duration": 53,
    "start_time": "2023-10-15T10:31:41.941Z"
   },
   {
    "duration": 6,
    "start_time": "2023-10-15T10:31:43.300Z"
   },
   {
    "duration": 53,
    "start_time": "2023-10-15T10:32:26.235Z"
   },
   {
    "duration": 6,
    "start_time": "2023-10-15T10:32:27.916Z"
   },
   {
    "duration": 52,
    "start_time": "2023-10-15T10:35:19.723Z"
   },
   {
    "duration": 6,
    "start_time": "2023-10-15T10:35:20.565Z"
   },
   {
    "duration": 7,
    "start_time": "2023-10-15T11:06:18.318Z"
   },
   {
    "duration": 50,
    "start_time": "2023-10-15T11:06:21.816Z"
   },
   {
    "duration": 7,
    "start_time": "2023-10-15T11:06:23.252Z"
   },
   {
    "duration": 50,
    "start_time": "2023-10-15T11:06:55.087Z"
   },
   {
    "duration": 7,
    "start_time": "2023-10-15T11:06:59.756Z"
   },
   {
    "duration": 62,
    "start_time": "2023-10-15T11:07:14.211Z"
   },
   {
    "duration": 52,
    "start_time": "2023-10-15T11:07:36.839Z"
   },
   {
    "duration": 6,
    "start_time": "2023-10-15T11:07:39.365Z"
   },
   {
    "duration": 51,
    "start_time": "2023-10-15T11:10:46.472Z"
   },
   {
    "duration": 7,
    "start_time": "2023-10-15T11:10:48.966Z"
   },
   {
    "duration": 60,
    "start_time": "2023-10-15T11:14:33.776Z"
   },
   {
    "duration": 8,
    "start_time": "2023-10-15T11:14:34.351Z"
   },
   {
    "duration": 49,
    "start_time": "2023-10-15T11:17:43.362Z"
   },
   {
    "duration": 7,
    "start_time": "2023-10-15T11:17:43.973Z"
   },
   {
    "duration": 52,
    "start_time": "2023-10-15T11:20:03.550Z"
   },
   {
    "duration": 7,
    "start_time": "2023-10-15T11:20:04.396Z"
   },
   {
    "duration": 8,
    "start_time": "2023-10-15T11:46:25.976Z"
   },
   {
    "duration": 277,
    "start_time": "2023-10-15T11:46:48.779Z"
   },
   {
    "duration": 7,
    "start_time": "2023-10-15T11:47:18.190Z"
   },
   {
    "duration": 9,
    "start_time": "2023-10-15T11:47:32.787Z"
   },
   {
    "duration": 7,
    "start_time": "2023-10-15T11:47:55.811Z"
   },
   {
    "duration": 284,
    "start_time": "2023-10-15T11:51:45.095Z"
   },
   {
    "duration": 7,
    "start_time": "2023-10-15T11:51:55.773Z"
   },
   {
    "duration": 238,
    "start_time": "2023-10-15T12:02:10.880Z"
   },
   {
    "duration": 580,
    "start_time": "2023-10-15T12:02:42.226Z"
   },
   {
    "duration": 3,
    "start_time": "2023-10-15T12:02:42.808Z"
   },
   {
    "duration": 13187,
    "start_time": "2023-10-15T12:02:42.812Z"
   },
   {
    "duration": 3,
    "start_time": "2023-10-15T12:02:56.001Z"
   },
   {
    "duration": 483,
    "start_time": "2023-10-15T12:02:56.005Z"
   },
   {
    "duration": 47,
    "start_time": "2023-10-15T12:02:56.490Z"
   },
   {
    "duration": 56,
    "start_time": "2023-10-15T12:02:56.539Z"
   },
   {
    "duration": 47,
    "start_time": "2023-10-15T12:02:56.598Z"
   },
   {
    "duration": 49,
    "start_time": "2023-10-15T12:02:56.647Z"
   },
   {
    "duration": 82,
    "start_time": "2023-10-15T12:02:56.699Z"
   },
   {
    "duration": 0,
    "start_time": "2023-10-15T12:02:56.783Z"
   },
   {
    "duration": 0,
    "start_time": "2023-10-15T12:02:56.785Z"
   },
   {
    "duration": 0,
    "start_time": "2023-10-15T12:02:56.786Z"
   },
   {
    "duration": 0,
    "start_time": "2023-10-15T12:02:56.787Z"
   },
   {
    "duration": 0,
    "start_time": "2023-10-15T12:02:56.788Z"
   },
   {
    "duration": 0,
    "start_time": "2023-10-15T12:02:56.790Z"
   },
   {
    "duration": 0,
    "start_time": "2023-10-15T12:02:56.791Z"
   },
   {
    "duration": 0,
    "start_time": "2023-10-15T12:02:56.792Z"
   },
   {
    "duration": 0,
    "start_time": "2023-10-15T12:02:56.793Z"
   },
   {
    "duration": 0,
    "start_time": "2023-10-15T12:02:56.795Z"
   },
   {
    "duration": 0,
    "start_time": "2023-10-15T12:02:56.796Z"
   },
   {
    "duration": 0,
    "start_time": "2023-10-15T12:02:56.797Z"
   },
   {
    "duration": 0,
    "start_time": "2023-10-15T12:02:56.798Z"
   },
   {
    "duration": 0,
    "start_time": "2023-10-15T12:02:56.800Z"
   },
   {
    "duration": 0,
    "start_time": "2023-10-15T12:02:56.802Z"
   },
   {
    "duration": 0,
    "start_time": "2023-10-15T12:02:56.803Z"
   },
   {
    "duration": 0,
    "start_time": "2023-10-15T12:02:56.804Z"
   },
   {
    "duration": 12,
    "start_time": "2023-10-15T12:03:23.419Z"
   },
   {
    "duration": 547,
    "start_time": "2023-10-15T12:05:13.394Z"
   },
   {
    "duration": 6,
    "start_time": "2023-10-15T12:05:13.945Z"
   },
   {
    "duration": 12318,
    "start_time": "2023-10-15T12:05:13.953Z"
   },
   {
    "duration": 3,
    "start_time": "2023-10-15T12:05:26.274Z"
   },
   {
    "duration": 448,
    "start_time": "2023-10-15T12:05:26.278Z"
   },
   {
    "duration": 50,
    "start_time": "2023-10-15T12:05:26.728Z"
   },
   {
    "duration": 46,
    "start_time": "2023-10-15T12:05:26.780Z"
   },
   {
    "duration": 54,
    "start_time": "2023-10-15T12:05:26.828Z"
   },
   {
    "duration": 47,
    "start_time": "2023-10-15T12:05:26.884Z"
   },
   {
    "duration": 8,
    "start_time": "2023-10-15T12:05:26.934Z"
   },
   {
    "duration": 30,
    "start_time": "2023-10-15T12:05:26.955Z"
   },
   {
    "duration": 37,
    "start_time": "2023-10-15T12:05:26.987Z"
   },
   {
    "duration": 19,
    "start_time": "2023-10-15T12:05:27.025Z"
   },
   {
    "duration": 38,
    "start_time": "2023-10-15T12:05:27.045Z"
   },
   {
    "duration": 253,
    "start_time": "2023-10-15T12:05:27.085Z"
   },
   {
    "duration": 52,
    "start_time": "2023-10-15T12:05:27.340Z"
   },
   {
    "duration": 7,
    "start_time": "2023-10-15T12:05:27.393Z"
   },
   {
    "duration": 675,
    "start_time": "2023-10-15T12:05:27.401Z"
   },
   {
    "duration": 9,
    "start_time": "2023-10-15T12:05:28.078Z"
   },
   {
    "duration": 62,
    "start_time": "2023-10-15T12:05:28.089Z"
   },
   {
    "duration": 9,
    "start_time": "2023-10-15T12:05:28.153Z"
   },
   {
    "duration": 138,
    "start_time": "2023-10-15T12:05:28.164Z"
   },
   {
    "duration": 0,
    "start_time": "2023-10-15T12:05:28.304Z"
   },
   {
    "duration": 0,
    "start_time": "2023-10-15T12:05:28.305Z"
   },
   {
    "duration": 0,
    "start_time": "2023-10-15T12:05:28.306Z"
   },
   {
    "duration": 0,
    "start_time": "2023-10-15T12:05:28.308Z"
   },
   {
    "duration": 0,
    "start_time": "2023-10-15T12:05:28.309Z"
   },
   {
    "duration": 8,
    "start_time": "2023-10-15T12:05:43.127Z"
   },
   {
    "duration": 605,
    "start_time": "2023-10-15T12:07:15.827Z"
   },
   {
    "duration": 4,
    "start_time": "2023-10-15T12:07:16.434Z"
   },
   {
    "duration": 12040,
    "start_time": "2023-10-15T12:07:16.439Z"
   },
   {
    "duration": 3,
    "start_time": "2023-10-15T12:07:28.481Z"
   },
   {
    "duration": 253,
    "start_time": "2023-10-15T12:07:28.486Z"
   },
   {
    "duration": 56,
    "start_time": "2023-10-15T12:07:28.741Z"
   },
   {
    "duration": 61,
    "start_time": "2023-10-15T12:07:28.799Z"
   },
   {
    "duration": 53,
    "start_time": "2023-10-15T12:07:28.862Z"
   },
   {
    "duration": 48,
    "start_time": "2023-10-15T12:07:28.917Z"
   },
   {
    "duration": 22,
    "start_time": "2023-10-15T12:07:28.969Z"
   },
   {
    "duration": 8,
    "start_time": "2023-10-15T12:07:28.993Z"
   },
   {
    "duration": 32,
    "start_time": "2023-10-15T12:07:29.003Z"
   },
   {
    "duration": 12,
    "start_time": "2023-10-15T12:07:29.037Z"
   },
   {
    "duration": 8,
    "start_time": "2023-10-15T12:07:29.051Z"
   },
   {
    "duration": 240,
    "start_time": "2023-10-15T12:07:29.063Z"
   },
   {
    "duration": 56,
    "start_time": "2023-10-15T12:07:29.305Z"
   },
   {
    "duration": 7,
    "start_time": "2023-10-15T12:07:29.363Z"
   },
   {
    "duration": 931,
    "start_time": "2023-10-15T12:07:29.372Z"
   },
   {
    "duration": 8,
    "start_time": "2023-10-15T12:07:30.305Z"
   },
   {
    "duration": 98,
    "start_time": "2023-10-15T12:07:30.314Z"
   },
   {
    "duration": 10,
    "start_time": "2023-10-15T12:07:30.413Z"
   },
   {
    "duration": 354,
    "start_time": "2023-10-15T12:07:30.425Z"
   },
   {
    "duration": 0,
    "start_time": "2023-10-15T12:07:30.781Z"
   },
   {
    "duration": 0,
    "start_time": "2023-10-15T12:07:30.782Z"
   },
   {
    "duration": 0,
    "start_time": "2023-10-15T12:07:30.783Z"
   },
   {
    "duration": 0,
    "start_time": "2023-10-15T12:07:30.784Z"
   },
   {
    "duration": 0,
    "start_time": "2023-10-15T12:07:30.784Z"
   },
   {
    "duration": 55,
    "start_time": "2023-10-15T12:07:56.716Z"
   },
   {
    "duration": 7,
    "start_time": "2023-10-15T12:07:59.803Z"
   },
   {
    "duration": 552,
    "start_time": "2023-10-15T12:08:08.538Z"
   },
   {
    "duration": 5,
    "start_time": "2023-10-15T12:08:09.092Z"
   },
   {
    "duration": 11707,
    "start_time": "2023-10-15T12:08:09.099Z"
   },
   {
    "duration": 4,
    "start_time": "2023-10-15T12:08:20.808Z"
   },
   {
    "duration": 369,
    "start_time": "2023-10-15T12:08:20.814Z"
   },
   {
    "duration": 48,
    "start_time": "2023-10-15T12:08:21.185Z"
   },
   {
    "duration": 54,
    "start_time": "2023-10-15T12:08:21.236Z"
   },
   {
    "duration": 48,
    "start_time": "2023-10-15T12:08:21.292Z"
   },
   {
    "duration": 50,
    "start_time": "2023-10-15T12:08:21.343Z"
   },
   {
    "duration": 20,
    "start_time": "2023-10-15T12:08:21.396Z"
   },
   {
    "duration": 14,
    "start_time": "2023-10-15T12:08:21.417Z"
   },
   {
    "duration": 26,
    "start_time": "2023-10-15T12:08:21.433Z"
   },
   {
    "duration": 15,
    "start_time": "2023-10-15T12:08:21.460Z"
   },
   {
    "duration": 18,
    "start_time": "2023-10-15T12:08:21.476Z"
   },
   {
    "duration": 255,
    "start_time": "2023-10-15T12:08:21.496Z"
   },
   {
    "duration": 48,
    "start_time": "2023-10-15T12:08:21.759Z"
   },
   {
    "duration": 5,
    "start_time": "2023-10-15T12:08:21.809Z"
   },
   {
    "duration": 664,
    "start_time": "2023-10-15T12:08:21.816Z"
   },
   {
    "duration": 10,
    "start_time": "2023-10-15T12:08:22.481Z"
   },
   {
    "duration": 64,
    "start_time": "2023-10-15T12:08:22.493Z"
   },
   {
    "duration": 6,
    "start_time": "2023-10-15T12:08:22.559Z"
   },
   {
    "duration": 68,
    "start_time": "2023-10-15T12:08:22.567Z"
   },
   {
    "duration": 10,
    "start_time": "2023-10-15T12:08:22.637Z"
   },
   {
    "duration": 58,
    "start_time": "2023-10-15T12:08:22.654Z"
   },
   {
    "duration": 7,
    "start_time": "2023-10-15T12:08:22.714Z"
   },
   {
    "duration": 69,
    "start_time": "2023-10-15T12:08:22.723Z"
   },
   {
    "duration": 6,
    "start_time": "2023-10-15T12:08:22.794Z"
   },
   {
    "duration": 86,
    "start_time": "2023-10-15T12:11:48.552Z"
   },
   {
    "duration": 7,
    "start_time": "2023-10-15T12:13:06.280Z"
   },
   {
    "duration": 5,
    "start_time": "2023-10-15T12:13:26.193Z"
   },
   {
    "duration": 9,
    "start_time": "2023-10-15T12:14:37.202Z"
   },
   {
    "duration": 12,
    "start_time": "2023-10-15T12:16:09.924Z"
   },
   {
    "duration": 236,
    "start_time": "2023-10-15T12:18:46.020Z"
   },
   {
    "duration": 247,
    "start_time": "2023-10-15T12:19:20.030Z"
   },
   {
    "duration": 314,
    "start_time": "2023-10-15T12:21:57.581Z"
   },
   {
    "duration": 344,
    "start_time": "2023-10-15T12:22:49.238Z"
   },
   {
    "duration": 417,
    "start_time": "2023-10-15T12:23:15.201Z"
   },
   {
    "duration": 8,
    "start_time": "2023-10-15T12:23:33.408Z"
   },
   {
    "duration": 13,
    "start_time": "2023-10-15T12:23:44.382Z"
   },
   {
    "duration": 15,
    "start_time": "2023-10-15T12:24:09.033Z"
   },
   {
    "duration": 10,
    "start_time": "2023-10-15T12:24:33.913Z"
   },
   {
    "duration": 554,
    "start_time": "2023-10-15T12:24:44.936Z"
   },
   {
    "duration": 3,
    "start_time": "2023-10-15T12:24:45.492Z"
   },
   {
    "duration": 16730,
    "start_time": "2023-10-15T12:24:45.496Z"
   },
   {
    "duration": 4,
    "start_time": "2023-10-15T12:25:02.228Z"
   },
   {
    "duration": 456,
    "start_time": "2023-10-15T12:25:02.234Z"
   },
   {
    "duration": 47,
    "start_time": "2023-10-15T12:25:02.692Z"
   },
   {
    "duration": 72,
    "start_time": "2023-10-15T12:25:02.740Z"
   },
   {
    "duration": 58,
    "start_time": "2023-10-15T12:25:02.818Z"
   },
   {
    "duration": 49,
    "start_time": "2023-10-15T12:25:02.878Z"
   },
   {
    "duration": 105,
    "start_time": "2023-10-15T12:25:02.930Z"
   },
   {
    "duration": 61,
    "start_time": "2023-10-15T12:25:03.036Z"
   },
   {
    "duration": 44,
    "start_time": "2023-10-15T12:25:03.099Z"
   },
   {
    "duration": 42,
    "start_time": "2023-10-15T12:25:03.149Z"
   },
   {
    "duration": 64,
    "start_time": "2023-10-15T12:25:03.193Z"
   },
   {
    "duration": 375,
    "start_time": "2023-10-15T12:25:03.259Z"
   },
   {
    "duration": 63,
    "start_time": "2023-10-15T12:25:03.636Z"
   },
   {
    "duration": 9,
    "start_time": "2023-10-15T12:25:03.702Z"
   },
   {
    "duration": 679,
    "start_time": "2023-10-15T12:25:03.713Z"
   },
   {
    "duration": 12,
    "start_time": "2023-10-15T12:25:04.395Z"
   },
   {
    "duration": 79,
    "start_time": "2023-10-15T12:25:04.409Z"
   },
   {
    "duration": 7,
    "start_time": "2023-10-15T12:25:04.491Z"
   },
   {
    "duration": 103,
    "start_time": "2023-10-15T12:25:04.500Z"
   },
   {
    "duration": 8,
    "start_time": "2023-10-15T12:25:04.606Z"
   },
   {
    "duration": 90,
    "start_time": "2023-10-15T12:25:04.616Z"
   },
   {
    "duration": 8,
    "start_time": "2023-10-15T12:25:04.709Z"
   },
   {
    "duration": 24,
    "start_time": "2023-10-15T12:25:04.720Z"
   },
   {
    "duration": 26,
    "start_time": "2023-10-15T12:25:04.746Z"
   },
   {
    "duration": 40,
    "start_time": "2023-10-15T12:25:04.776Z"
   },
   {
    "duration": 89,
    "start_time": "2023-10-15T12:25:04.818Z"
   },
   {
    "duration": 8,
    "start_time": "2023-10-15T12:25:04.909Z"
   },
   {
    "duration": 528,
    "start_time": "2023-10-15T12:26:40.800Z"
   },
   {
    "duration": 6,
    "start_time": "2023-10-15T12:26:41.330Z"
   },
   {
    "duration": 12181,
    "start_time": "2023-10-15T12:26:41.337Z"
   },
   {
    "duration": 3,
    "start_time": "2023-10-15T12:26:53.520Z"
   },
   {
    "duration": 540,
    "start_time": "2023-10-15T12:26:53.525Z"
   },
   {
    "duration": 48,
    "start_time": "2023-10-15T12:26:54.067Z"
   },
   {
    "duration": 6,
    "start_time": "2023-10-15T12:26:54.117Z"
   },
   {
    "duration": 673,
    "start_time": "2023-10-15T12:26:54.124Z"
   },
   {
    "duration": 11,
    "start_time": "2023-10-15T12:26:54.800Z"
   },
   {
    "duration": 79,
    "start_time": "2023-10-15T12:26:54.814Z"
   },
   {
    "duration": 9,
    "start_time": "2023-10-15T12:26:54.896Z"
   },
   {
    "duration": 58,
    "start_time": "2023-10-15T12:26:54.907Z"
   },
   {
    "duration": 9,
    "start_time": "2023-10-15T12:26:54.968Z"
   },
   {
    "duration": 60,
    "start_time": "2023-10-15T12:26:54.979Z"
   },
   {
    "duration": 7,
    "start_time": "2023-10-15T12:26:55.042Z"
   },
   {
    "duration": 116,
    "start_time": "2023-10-15T12:26:55.052Z"
   },
   {
    "duration": 0,
    "start_time": "2023-10-15T12:26:55.170Z"
   },
   {
    "duration": 0,
    "start_time": "2023-10-15T12:26:55.171Z"
   },
   {
    "duration": 0,
    "start_time": "2023-10-15T12:26:55.172Z"
   },
   {
    "duration": 0,
    "start_time": "2023-10-15T12:26:55.173Z"
   },
   {
    "duration": 9,
    "start_time": "2023-10-15T12:27:13.491Z"
   },
   {
    "duration": 8,
    "start_time": "2023-10-15T12:27:16.899Z"
   },
   {
    "duration": 349,
    "start_time": "2023-10-15T12:28:47.873Z"
   },
   {
    "duration": 13,
    "start_time": "2023-10-15T12:29:07.509Z"
   },
   {
    "duration": 31,
    "start_time": "2023-10-15T12:29:11.516Z"
   },
   {
    "duration": 14,
    "start_time": "2023-10-15T12:29:23.604Z"
   },
   {
    "duration": 581,
    "start_time": "2023-10-15T12:50:30.331Z"
   },
   {
    "duration": 3,
    "start_time": "2023-10-15T12:50:30.914Z"
   },
   {
    "duration": 11429,
    "start_time": "2023-10-15T12:50:30.919Z"
   },
   {
    "duration": 3,
    "start_time": "2023-10-15T12:50:42.350Z"
   },
   {
    "duration": 498,
    "start_time": "2023-10-15T12:50:42.355Z"
   },
   {
    "duration": 47,
    "start_time": "2023-10-15T12:50:42.855Z"
   },
   {
    "duration": 6,
    "start_time": "2023-10-15T12:50:42.903Z"
   },
   {
    "duration": 675,
    "start_time": "2023-10-15T12:50:42.911Z"
   },
   {
    "duration": 9,
    "start_time": "2023-10-15T12:50:43.588Z"
   },
   {
    "duration": 84,
    "start_time": "2023-10-15T12:50:43.599Z"
   },
   {
    "duration": 8,
    "start_time": "2023-10-15T12:50:43.685Z"
   },
   {
    "duration": 80,
    "start_time": "2023-10-15T12:50:43.695Z"
   },
   {
    "duration": 11,
    "start_time": "2023-10-15T12:50:43.777Z"
   },
   {
    "duration": 101,
    "start_time": "2023-10-15T12:50:43.790Z"
   },
   {
    "duration": 7,
    "start_time": "2023-10-15T12:50:43.893Z"
   },
   {
    "duration": 80,
    "start_time": "2023-10-15T12:50:43.902Z"
   },
   {
    "duration": 76,
    "start_time": "2023-10-15T12:50:43.984Z"
   },
   {
    "duration": 6,
    "start_time": "2023-10-15T12:50:44.062Z"
   },
   {
    "duration": 22,
    "start_time": "2023-10-15T13:00:21.745Z"
   },
   {
    "duration": 20,
    "start_time": "2023-10-15T13:00:59.170Z"
   },
   {
    "duration": 537,
    "start_time": "2023-10-15T13:01:12.486Z"
   },
   {
    "duration": 4,
    "start_time": "2023-10-15T13:01:13.026Z"
   },
   {
    "duration": 11575,
    "start_time": "2023-10-15T13:01:13.031Z"
   },
   {
    "duration": 4,
    "start_time": "2023-10-15T13:01:24.609Z"
   },
   {
    "duration": 554,
    "start_time": "2023-10-15T13:01:24.615Z"
   },
   {
    "duration": 47,
    "start_time": "2023-10-15T13:01:25.171Z"
   },
   {
    "duration": 6,
    "start_time": "2023-10-15T13:01:25.220Z"
   },
   {
    "duration": 679,
    "start_time": "2023-10-15T13:01:25.228Z"
   },
   {
    "duration": 9,
    "start_time": "2023-10-15T13:01:25.909Z"
   },
   {
    "duration": 60,
    "start_time": "2023-10-15T13:01:25.920Z"
   },
   {
    "duration": 7,
    "start_time": "2023-10-15T13:01:25.982Z"
   },
   {
    "duration": 67,
    "start_time": "2023-10-15T13:01:25.990Z"
   },
   {
    "duration": 8,
    "start_time": "2023-10-15T13:01:26.058Z"
   },
   {
    "duration": 53,
    "start_time": "2023-10-15T13:01:26.068Z"
   },
   {
    "duration": 8,
    "start_time": "2023-10-15T13:01:26.122Z"
   },
   {
    "duration": 21,
    "start_time": "2023-10-15T13:01:26.132Z"
   },
   {
    "duration": 52,
    "start_time": "2023-10-15T13:01:26.155Z"
   },
   {
    "duration": 7,
    "start_time": "2023-10-15T13:01:26.208Z"
   }
  ],
  "kernelspec": {
   "display_name": "Python 3 (ipykernel)",
   "language": "python",
   "name": "python3"
  },
  "language_info": {
   "codemirror_mode": {
    "name": "ipython",
    "version": 3
   },
   "file_extension": ".py",
   "mimetype": "text/x-python",
   "name": "python",
   "nbconvert_exporter": "python",
   "pygments_lexer": "ipython3",
   "version": "3.9.16"
  },
  "toc": {
   "base_numbering": 1,
   "nav_menu": {},
   "number_sections": true,
   "sideBar": true,
   "skip_h1_title": true,
   "title_cell": "Table of Contents",
   "title_sidebar": "Contents",
   "toc_cell": false,
   "toc_position": {},
   "toc_section_display": true,
   "toc_window_display": false
  }
 },
 "nbformat": 4,
 "nbformat_minor": 2
}
