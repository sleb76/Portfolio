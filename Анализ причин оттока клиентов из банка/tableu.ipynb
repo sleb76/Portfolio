{
 "cells": [
  {
   "cell_type": "markdown",
   "id": "8634d879",
   "metadata": {},
   "source": [
    "<div style=\"border:solid Chocolate 2px; padding: 40px\">\n",
    "\n",
    "<b>Сергей, привет!</b>\n",
    "\n",
    "Меня зовут Евгений Головин, я буду ревьюером твоего проекта. Если ты не против, то предлагаю построить наше общение на \"ты\" ;) Если удобнее на \"вы\", то нет проблем, только скажи об этом. \n",
    "\n",
    "В ходе работы я оставил тебе комментарии <font color='green'>зеленого</font>, <font color='gold'>желтого</font> и <font color='red'>красного</font> цветов. Сейчас объясню, что они значат:\n",
    "\n",
    "<br/>\n",
    "\n",
    "<div class=\"alert alert-success\">\n",
    "<h2> Комментарий ревьюера <a class=\"tocSkip\"> </h2>\n",
    "\n",
    "<b>Все супер!👍:</b> Решение на этом шаге является полностью правильным.\n",
    "</div>\n",
    "\n",
    "<br/>\n",
    "\n",
    "<div class=\"alert alert-warning\">\n",
    "    <h2> Комментарий ревьюера <a class=\"tocSkip\"> </h2>\n",
    "    \n",
    "<b>Небольшие замечания и рекомендации💡:</b> Решение на этом шаге станет еще лучше, если внести небольшие коррективы.\n",
    "</div>\n",
    "\n",
    "\n",
    "<br/>\n",
    "<div class=\"alert alert-block alert-danger\">\n",
    "<h2> Комментарий ревьюера <a class=\"tocSkip\"></h2>\n",
    "\n",
    "    \n",
    "<b>На доработку🤔:</b>\n",
    " Решение на этом шаге требует существенной переработки и внесения правок. Напоминаю, что проект не может быть принят с первого раза, если ревью содержит комментарии, рекомендующие доработать шаги.\n",
    "</div>\n",
    "    \n",
    "Увидев мой комментарий, не удаляй его, он будет очень полезен в случае повторной проверки работы :)\n",
    "    \n",
    "<div class=\"alert alert-info\">\n",
    "<b>А свой помечай вот так, чтобы я его не потерял ;)</b> \n",
    "</div>\n",
    "    \n",
    "На мои комменатрии можно и нужно реагировать, только делать это стоит так, чтобы твои и мои комменты не смешались: выделяй свои цветами, сильно отличающимися от моих.\n",
    "    \n",
    "Увидев у тебя неточность, в первый раз я лишь укажу на ее наличие и дам тебе возможность самому найти и исправить ее. На реальной работе твой руководитель будет поступать также, и я пытаюсь подготовить тебя именно к работе аналитиком. Но если ты пока не справишься с такой задачей - при следующей проверке я дам более точную подсказку!"
   ]
  },
  {
   "cell_type": "markdown",
   "id": "e502f5f1",
   "metadata": {},
   "source": [
    "<div class=\"alert alert-info\">\n",
    "<b>Привет, да, конечно, давай на ты.</b> \n",
    "</div>"
   ]
  },
  {
   "cell_type": "markdown",
   "id": "82fbf87c",
   "metadata": {},
   "source": [
    "https://public.tableau.com/views/_16953537793160/sheet23?:language=en-US&publish=yes&:display_count=n&:origin=viz_share_link"
   ]
  },
  {
   "cell_type": "markdown",
   "id": "441c8f75",
   "metadata": {},
   "source": [
    "Версия 1.1\n",
    "\n",
    "https://public.tableau.com/views/1_1_16953771248120/1_1?:language=en-US&publish=yes&:display_count=n&:origin=viz_share_link"
   ]
  },
  {
   "cell_type": "markdown",
   "id": "ca426f3f",
   "metadata": {},
   "source": [
    "# Дашборд \"История выступлений\""
   ]
  },
  {
   "cell_type": "markdown",
   "id": "afbe7e64",
   "metadata": {},
   "source": [
    "<div class=\"alert alert-success\">\n",
    "<h2> Комментарий ревьюера v1 <a class=\"tocSkip\"> </h2>\n",
    "\n",
    "<b>Все супер!👍:</b> Отличный дашборд! Action настроен верно, фильтр по дате сделан правильно, молодец!"
   ]
  },
  {
   "cell_type": "markdown",
   "id": "0344c802",
   "metadata": {},
   "source": [
    "<div class=\"alert alert-block alert-danger\">\n",
    "<h2> Комментарий ревьюера v1<a class=\"tocSkip\"></h2>\n",
    "\n",
    "<b>На доработку🤔:</b> Вижу, что ты берешь данные с 2006 года. Понимаю тебя, но предлагаю присмотреться внимательнее к графику количества выступлений по годам. Обрати внимание, что рост начинается раньше"
   ]
  },
  {
   "cell_type": "markdown",
   "id": "4fb4996a",
   "metadata": {},
   "source": [
    "<div class=\"alert alert-info\">\n",
    "<b>Там 2 критические точки: на 2001 когда вообще что-то начало расти и на 2006 когда изменился характер роста. Мне показалось что ради показательности разумнее отрезать до 2006 так как мы же картинки рисуем, а не цифры анализируем, а картинкам важна наглядность. Но, может, я и не прав: я ненавижу всю жизнь эти картинки и никогда их не рисовал, всегда обходился таблицами. В любом случае, если ты считаешь что отрезать надо до 2001 - ок, отрезал до 2001</b> \n",
    "</div>"
   ]
  },
  {
   "cell_type": "markdown",
   "id": "ddb1ca6f",
   "metadata": {},
   "source": [
    "<div class=\"alert alert-success\">\n",
    "<h2> Комментарий ревьюера v2 <a class=\"tocSkip\"> </h2>\n",
    "\n",
    "<b>Все супер!👍:</b> 2001 правильнее, отличная работа!"
   ]
  },
  {
   "cell_type": "markdown",
   "id": "8ff98a5b",
   "metadata": {},
   "source": [
    "<div class=\"alert alert-block alert-danger\">\n",
    "<h2> Комментарий ревьюера v1 <a class=\"tocSkip\"></h2>\n",
    "\n",
    "<b>На доработку🤔:</b>  А давай на фильтре по дате добавим численные значения в виде годов?)"
   ]
  },
  {
   "cell_type": "markdown",
   "id": "90d013d2",
   "metadata": {},
   "source": [
    "<div class=\"alert alert-info\">\n",
    "<b>Да как скажешь, я в принципе в этом месте старался сделать как в образце, но вернуть убранные галки на место вопрос 5 секунд. Я тоже удивился этому \"скандинавскому дизайну\" голого слайдера, но подумал что выглядит круто, типа, зачем мне вообще года :)))</b> \n",
    "</div>"
   ]
  },
  {
   "cell_type": "markdown",
   "id": "3c8af081",
   "metadata": {},
   "source": [
    "<div class=\"alert alert-success\">\n",
    "<h2> Комментарий ревьюера v2 <a class=\"tocSkip\"> </h2>\n",
    "\n",
    "<b>Все супер!👍:</b> Есть, молодец!"
   ]
  },
  {
   "cell_type": "markdown",
   "id": "ca1db8b1",
   "metadata": {},
   "source": [
    "# Дашборд \"Тематики выступлений\""
   ]
  },
  {
   "cell_type": "markdown",
   "id": "5a8bd061",
   "metadata": {},
   "source": [
    "<div class=\"alert alert-success\">\n",
    "<h2> Комментарий ревьюера v1 <a class=\"tocSkip\"> </h2>\n",
    "\n",
    "<b>Все супер!👍:</b> Вновь успех! Action настроен верно, всплывающие подсказки тоже. Молодец! Хорошая вертска)"
   ]
  },
  {
   "cell_type": "markdown",
   "id": "0572213c",
   "metadata": {},
   "source": [
    "<div class=\"alert alert-block alert-danger\">\n",
    "<h2> Комментарий ревьюера v1<a class=\"tocSkip\"></h2>\n",
    "\n",
    "<b>На доработку🤔:</b>  Актуальный период :(\n",
    "    "
   ]
  },
  {
   "cell_type": "markdown",
   "id": "8207ed33",
   "metadata": {},
   "source": [
    "<div class=\"alert alert-block alert-danger\">\n",
    "<h2> Комментарий ревьюера v1<a class=\"tocSkip\"></h2>\n",
    "\n",
    "<b>На доработку🤔:</b>  Данные на круговой диаграмме не отсортированы"
   ]
  },
  {
   "cell_type": "markdown",
   "id": "b31b2782",
   "metadata": {},
   "source": [
    "<div class=\"alert alert-info\">\n",
    "<b>ОК, не вопрос. Просто в задании это не указано (там всегда прописано когда нужна сортировка) и в образце ее нет. Но добавить не проблема.</b> \n",
    "</div>"
   ]
  },
  {
   "cell_type": "markdown",
   "id": "16f938b0",
   "metadata": {},
   "source": [
    "<div class=\"alert alert-success\">\n",
    "<h2> Комментарий ревьюера v2 <a class=\"tocSkip\"> </h2>\n",
    "\n",
    "<b>Все супер!👍:</b> Исправили, отлично)"
   ]
  },
  {
   "cell_type": "markdown",
   "id": "2fce87e2",
   "metadata": {},
   "source": [
    "<div class=\"alert alert-block alert-danger\">\n",
    "<h2> Комментарий ревьюера v1 <a class=\"tocSkip\"></h2>\n",
    "\n",
    "<b>На доработку🤔:</b>  А разве на боксплотах должны отражаться все тематики? По-моему только 11 (те, что мы определили в \"Тематики и страны)"
   ]
  },
  {
   "cell_type": "markdown",
   "id": "ff8395f6",
   "metadata": {},
   "source": [
    "<div class=\"alert alert-info\">\n",
    "<b>Это ты у меня спрашиваешь? Мне почем знать? :)))) В задании всегда указывается когда применять созданные сеты, тут ничего сказано не было, так что без понятия. На самом деле мы в пачке с преподавателем вчера обсуждали варианты сортировки боксплотов (у меня почему-то вариант в лоб сбоил на моем публичном Tableau) и он неоднократно мне тоже присылал скрины как он делал и его тоже не удивило ни разу что там все тематики, но, опять же, все инструменты для фильтрации созданы, отрезать не пришивать... </b> \n",
    "</div>"
   ]
  },
  {
   "cell_type": "markdown",
   "id": "2d9aaeea",
   "metadata": {},
   "source": [
    "<div class=\"alert alert-success\">\n",
    "<h2> Комментарий ревьюера v2 <a class=\"tocSkip\"> </h2>\n",
    "\n",
    "<b>Все супер!👍:</b> +"
   ]
  },
  {
   "cell_type": "markdown",
   "id": "43027782",
   "metadata": {},
   "source": [
    "# Дашборд \"Авторы выступлений\""
   ]
  },
  {
   "cell_type": "markdown",
   "id": "921cd888",
   "metadata": {},
   "source": [
    "<div class=\"alert alert-success\">\n",
    "<h2> Комментарий ревьюера v1 <a class=\"tocSkip\"> </h2>\n",
    "\n",
    "<b>Все супер!👍:</b> Вновь отлично! Верстка хорошая, action работает, пузырьковая диаграммма настроена верно"
   ]
  },
  {
   "cell_type": "markdown",
   "id": "bad7aaf0",
   "metadata": {},
   "source": [
    "<div class=\"alert alert-block alert-danger\">\n",
    "<h2> Комментарий ревьюера v1<a class=\"tocSkip\"></h2>\n",
    "\n",
    "<b>На доработку🤔:</b>  Актуальный период :("
   ]
  },
  {
   "cell_type": "markdown",
   "id": "162f4eee",
   "metadata": {},
   "source": [
    "<div class=\"alert alert-success\">\n",
    "<h2> Комментарий ревьюера v2 <a class=\"tocSkip\"> </h2>\n",
    "\n",
    "<b>Все супер!👍:</b> Исправлено"
   ]
  },
  {
   "cell_type": "markdown",
   "id": "f80691de",
   "metadata": {},
   "source": [
    "# Дашборд на свободную тему"
   ]
  },
  {
   "cell_type": "markdown",
   "id": "ae144659",
   "metadata": {},
   "source": [
    "<div class=\"alert alert-success\">\n",
    "<h2> Комментарий ревьюера v1 <a class=\"tocSkip\"> </h2>\n",
    "\n",
    "<b>Все супер!👍:</b> Отличная работа!"
   ]
  },
  {
   "cell_type": "markdown",
   "id": "815280ee",
   "metadata": {},
   "source": [
    "<div class=\"alert alert-block alert-danger\">\n",
    "<h2> Комментарий ревьюера v1<a class=\"tocSkip\"></h2>\n",
    "\n",
    "<b>На доработку🤔:</b>  Актуальный период :("
   ]
  },
  {
   "cell_type": "markdown",
   "id": "5e84bf6a",
   "metadata": {},
   "source": [
    "<div class=\"alert alert-success\">\n",
    "<h2> Комментарий ревьюера v2 <a class=\"tocSkip\"> </h2>\n",
    "\n",
    "<b>Все супер!👍:</b> ++"
   ]
  },
  {
   "cell_type": "markdown",
   "id": "cf0ed52b",
   "metadata": {},
   "source": [
    "<div style=\"border:solid Chocolate 2px; padding: 40px\">\n",
    "    \n",
    "**Общий вывод по проекту ревьювера**:\n",
    "Сергей, спасибо за  проект! Ты приложил много усилий, чтобы довести его до конца, проделана огромная работа, и это видно невооруженным глазом, ты большой молодец!\n",
    "    \n",
    "**Отмечу положительные моменты**:\n",
    "    \n",
    "    1. Все разложено по полочкам, всегда понятен ход твоих мыслей, приятно смотреть\n",
    "    \n",
    "    2. Отличные визуализации\n",
    "    \n",
    "    3. На разных шагах проекта ты предлагал очень интересные решения и методы для их реализации. Хорошая работа!\n",
    "    \n",
    "    \n",
    "**На что стоит обратить внимание**:\n",
    "    \n",
    "    1. Неверно определен актулаьный период, что привело к ошибкам в последующих разделах \n",
    "    \n",
    "    \n",
    "**Удачи и жду твой проект на повторное ревью!**"
   ]
  },
  {
   "cell_type": "markdown",
   "id": "bc23328c",
   "metadata": {},
   "source": [
    "<div class=\"alert alert-info\">\n",
    "<b>Вроде поправил все на что ты указал, надеюсь что теперь норм. Спасибо :) </b> \n",
    "</div>"
   ]
  },
  {
   "cell_type": "markdown",
   "id": "51f7e3ba",
   "metadata": {},
   "source": [
    "<div style=\"border:solid Chocolate 2px; padding: 40px\">\n",
    "    \n",
    "**Общий вывод по проекту ревьювера v2**:\n",
    "Сергей,  ошибки исправлены, проект принят, поздравляю тебя! Успешной учебы и еще увидимся в Практикуме!"
   ]
  }
 ],
 "metadata": {
  "ExecuteTimeLog": [
   {
    "duration": 87,
    "start_time": "2023-09-22T07:35:31.972Z"
   }
  ],
  "kernelspec": {
   "display_name": "Python 3 (ipykernel)",
   "language": "python",
   "name": "python3"
  },
  "language_info": {
   "codemirror_mode": {
    "name": "ipython",
    "version": 3
   },
   "file_extension": ".py",
   "mimetype": "text/x-python",
   "name": "python",
   "nbconvert_exporter": "python",
   "pygments_lexer": "ipython3",
   "version": "3.9.16"
  },
  "toc": {
   "base_numbering": 1,
   "nav_menu": {},
   "number_sections": true,
   "sideBar": true,
   "skip_h1_title": true,
   "title_cell": "Table of Contents",
   "title_sidebar": "Contents",
   "toc_cell": false,
   "toc_position": {},
   "toc_section_display": true,
   "toc_window_display": false
  }
 },
 "nbformat": 4,
 "nbformat_minor": 5
}
